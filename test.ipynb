{
 "cells": [
  {
   "cell_type": "code",
   "execution_count": 1,
   "metadata": {},
   "outputs": [
    {
     "name": "stderr",
     "output_type": "stream",
     "text": [
      "/opt/homebrew/Caskroom/miniconda/base/envs/dacon/lib/python3.12/site-packages/langchain_core/_api/deprecation.py:139: LangChainDeprecationWarning: The class `OpenAIEmbeddings` was deprecated in LangChain 0.0.9 and will be removed in 0.3.0. An updated version of the class exists in the langchain-openai package and should be used instead. To use it run `pip install -U langchain-openai` and import as `from langchain_openai import OpenAIEmbeddings`.\n",
      "  warn_deprecated(\n",
      "Creating Chunks: 100%|██████████| 25/25 [00:26<00:00,  1.07s/it]\n"
     ]
    }
   ],
   "source": [
    "\n",
    "from utils import *\n",
    "from model import * \n",
    "json_file_path= \"/Users/hwany/Documents/long_term_memory/train3537-3.json\"\n",
    "dialogs = process_dialogs(json_file_path, 2)\n",
    "chunks = create_multiple_chunks(dialogs, 1, 1)\n",
    "cache = create_vector_db(chunks)"
   ]
  },
  {
   "cell_type": "code",
   "execution_count": 17,
   "metadata": {},
   "outputs": [
    {
     "name": "stdout",
     "output_type": "stream",
     "text": [
      "time: 2020/06/15/14:00\n",
      "Speaker1: I need some advice on where to go on vacation, have you been anywhere lately?\n",
      "Speaker2: I have been all over the world. I'm military.\n",
      "\n",
      "time: 2020/06/15/14:00\n",
      "Speaker1: That is good you have alot of travel experience\n",
      "Speaker2: Sure do. And a lot of experience blowing things up! Haha. Bora bora is nice.\n",
      "\n",
      "time: 2020/06/15/14:00\n",
      "Speaker1: I've been working non stop crazy hours and need a break.\n",
      "Speaker2: The best breaks are spent with cute cuddly kittens.\n",
      "\n",
      "time: 2020/06/15/14:00\n",
      "Speaker1: Bora bora sounds nice, you have been there before?\n",
      "Speaker2: Nope... Just sounds nice, and repetitive. Bora... Bora. Ha!\n",
      "\n",
      "time: 2020/06/15/14:00\n",
      "Speaker1: Kittens really? I rather be at the beach.\n",
      "Speaker2: Only if the beach was covered in kittens!\n",
      "\n",
      "time: 2020/06/15/14:00\n",
      "Speaker1: That would be a sight to see.\n",
      "Speaker2: Or maybe brownies... I love chocolate.\n",
      "\n",
      "time: 2020/06/15/14:00\n",
      "Speaker1: I love brownies too but I haven't quite perfected mine yet.\n",
      "Speaker2: Well I'm available to taste test!\n",
      "\n",
      "time: 2020/06/17/14:00\n",
      "Speaker1: Are you still in the military?\n",
      "Speaker2: No, I have no longer serve in the millitary, I had served up the full term that I signed up for, and now work outside of the millitary.\n",
      "\n",
      "time: 2020/06/17/14:00\n",
      "Speaker1: Oh wow that's very admirable. What do you do now?\n",
      "Speaker2: I work as an electrical engineer for a private company, I was trained in the millitary as such and I found out that I not only liked it, but I was good at it as well.\n",
      "\n",
      "time: 2020/06/17/14:00\n",
      "Speaker1: Thats really impressive. I am a mechanical engineer so I can relate. What kind of stuff do you work on\n",
      "Speaker2: I troubleshoot equipment that the company either sells to its customers, or that it rents to its customers. I also install and test their equipment, to ensure that it not only works, but it also is safe to use in a household.\n",
      "\n",
      "time: 2020/06/17/14:00\n",
      "Speaker1: Right on, thats pretty cool. Like generators and motors or household items?\n",
      "Speaker2: Generators for sure are some of the things I have worked on, but also wiring and how a system is connected as well. Its suprising how different some households can be wired than others in a given neighborhood.\n",
      "\n",
      "time: 2020/06/17/14:00\n",
      "Speaker1: Oh yes I can imagine. My cousin bought a house with all aluminum wiring. He spent a lot in bring it up to code.\n",
      "Speaker2: That must a been some kind of endeavor. Its great that people are aware of issues that arise in their homes, otherwise it can be very problematic in the future.\n",
      "\n",
      "time: 2020/06/17/14:00\n",
      "Speaker1: Oh it was. I cant imagine taking something like that on. But its definitely worth it to keep his home safe. \n",
      "Speaker2: Especially if you plan on keeping it for a while, or if you have a family to take care of. I would want my house to be as safe as possible for my children.\n",
      "\n",
      "time: 2020/06/20/14:00\n",
      "Speaker1: I've booked myself a week long vacation from work next month!\n",
      "Speaker2: How nice!  Where are you going?\n",
      "\n",
      "time: 2020/06/20/14:00\n",
      "Speaker1: Did not decided yet, I'd like to get an idea about traveling as you are big traveller. \n",
      "Speaker2: I like relaxing places, like the beaches.  I love New Orleans, the entertainment is great there.  That is where I'm going on my next vacation.  What is your cousin going to do about the wiring in his house?\n",
      "\n",
      "time: 2020/06/20/14:00\n",
      "Speaker1: Thank you for the suggestions. I am going to take a look for all place which is available for now. Glad to ask about my cousin, seems like he is having bad times, because of the conditions, those house problem etc. Hope he can figure it out soon. If he has questions about those wiring things, can I give your contact to him?\n",
      "Speaker2: Yes I would be glad to help in any way I can.  Does he live close to you?\n",
      "\n",
      "time: 2020/06/20/14:00\n",
      "Speaker1: You're so sweet thank you again. Unfortunately, we are not living close enough. If we are living close, I am for sure there things I can help to him\n",
      "Speaker2: Well I'm sure I can help him get headed in the right direction with what to do.  He might have to send me photos of some of the problems.  Do you think it is really serious?\n",
      "\n",
      "time: 2020/06/20/14:00\n",
      "Speaker1: I guess that problems are serious, but I am not a professional one so I do not know about much. I am so glad to have you. You are experienced, professional, so there are nothing to worry about right?\n",
      "Speaker2: Yes, I've fixed lots of electrical problems.  I have some out of town work I'll be doing, maybe I can stop by his house if isn't too far.\n",
      "\n",
      "time: 2020/06/20/14:00\n",
      "Speaker1: Thank you as always. First I need you contact my cousin then I'll let you know. I do not want to bother you. I know you have tons of things to do\n",
      "Speaker2: Ok that is fine.  Have fun on your vacation and be sure to let me know where you decide to go.\n",
      "\n",
      "time: 2020/6/20/20:00\n",
      "Speaker2: When do you think you will travel to New Orleans next?\n",
      "Speaker2: I hope to travel there again sometime next March.\n",
      "\n",
      "time: 2020/6/20/20:00\n",
      "Speaker2: I have never been there but I hear it is a lot of fun! I have been working too much and decided to take a break- finally! I will be going to Italy. Have you ever been there?\n",
      "Speaker2: Yes, I was able to travel there while I was in the Military and loved it! Do you plan on taking a break from your non-stop work life to travel?\n",
      "\n",
      "time: 2020/6/20/20:00\n",
      "Speaker2: Yes I do. I will take 2 weeks off from work. I haven't done that before. I usually work every week day without time off. How long did you spend in the military?\n",
      "Speaker2: I was in the Military for 16 years and was able to take my skills into a job that I love in the civilian world. Just a few more years and I will be able to spend a few months on the beach in Bora Bora.\n",
      "\n",
      "time: 2020/6/20/20:00\n",
      "Speaker2: That sounds wonderful. Do you still work as an electrician?\n",
      "Speaker2: I do, I should come help you fix your cousins wiring problem!\n",
      "\n",
      "time: 2020/6/20/20:00\n",
      "Speaker2: Yes that would be wonderful, thank you! it would be a little trip for both of us. I will send you the information and we will pay for your weekend away. It will be great to see you.\n",
      "Speaker2: Where does your cousin live again?\n",
      "\n",
      "time: 2020/6/20/20:00\n",
      "Speaker2: She is in Florida, near the beach. She has a beautiful property but it needs a lot of work, of course. She got a great deal on it though.\n",
      "Speaker2: Is her new home at least safe?\n",
      "\n"
     ]
    }
   ],
   "source": [
    "for dialog in dialogs:\n",
    "    print(dialog)"
   ]
  },
  {
   "cell_type": "code",
   "execution_count": 21,
   "metadata": {},
   "outputs": [
    {
     "name": "stdout",
     "output_type": "stream",
     "text": [
      "[2020/06/15/14:00] Speaker 1 seeks vacation advice, while Speaker 2 shares their extensive travel experience due to military service.\n",
      "{'dialog': \"time: 2020/06/15/14:00\\nSpeaker1: I need some advice on where to go on vacation, have you been anywhere lately?\\nSpeaker2: I have been all over the world. I'm military.\\n\", 'ids': 0, 'ref': 0, 'score': 0}\n",
      "[2020/06/15/14:00] Speaker 1 acknowledges Speaker 2's travel experience, to which Speaker 2 humorously adds their experience with explosives and mentions Bora Bora as a nice destination.\n",
      "{'dialog': 'time: 2020/06/15/14:00\\nSpeaker1: That is good you have alot of travel experience\\nSpeaker2: Sure do. And a lot of experience blowing things up! Haha. Bora bora is nice.\\n', 'ids': 1, 'ref': 0, 'score': 1}\n",
      "[2020/06/15/14:00] Speaker 1 expresses the need for a break due to working long hours, while Speaker 2 suggests that spending time with cute cuddly kittens is the best way to relax.\n",
      "{'dialog': \"time: 2020/06/15/14:00\\nSpeaker1: I've been working non stop crazy hours and need a break.\\nSpeaker2: The best breaks are spent with cute cuddly kittens.\\n\", 'ids': 2, 'ref': 0, 'score': 2}\n",
      "[2020/06/15/14:00] Speaker 1 inquires about Bora Bora, while Speaker 2 humorously comments that they have not been there and finds the name repetitive.\n",
      "{'dialog': 'time: 2020/06/15/14:00\\nSpeaker1: Bora bora sounds nice, you have been there before?\\nSpeaker2: Nope... Just sounds nice, and repetitive. Bora... Bora. Ha!\\n', 'ids': 3, 'ref': 0, 'score': 3}\n",
      "[2020/06/15/14:00] Speaker 1 expresses a preference for the beach over kittens, while Speaker 2 humorously suggests a beach covered in kittens would be ideal.\n",
      "{'dialog': 'time: 2020/06/15/14:00\\nSpeaker1: Kittens really? I rather be at the beach.\\nSpeaker2: Only if the beach was covered in kittens!\\n', 'ids': 4, 'ref': 0, 'score': 4}\n",
      "[2020/06/15/14:00] Speaker 1 expresses interest in a sight, while Speaker 2 shares their love for chocolate, suggesting brownies.\n",
      "{'dialog': 'time: 2020/06/15/14:00\\nSpeaker1: That would be a sight to see.\\nSpeaker2: Or maybe brownies... I love chocolate.\\n', 'ids': 5, 'ref': 0, 'score': 5}\n",
      "[2020/06/15/14:00] Speaker 1 expresses their love for brownies but admits they haven't perfected their recipe, while Speaker 2 offers to help by taste testing.\n",
      "{'dialog': \"time: 2020/06/15/14:00\\nSpeaker1: I love brownies too but I haven't quite perfected mine yet.\\nSpeaker2: Well I'm available to taste test!\\n\", 'ids': 6, 'ref': 0, 'score': 6}\n",
      "[2020/06/17/14:00] Speaker 1 inquires about Speaker 2's military status, and Speaker 2 confirms they have completed their service and now work outside the military.\n",
      "{'dialog': 'time: 2020/06/17/14:00\\nSpeaker1: Are you still in the military?\\nSpeaker2: No, I have no longer serve in the millitary, I had served up the full term that I signed up for, and now work outside of the millitary.\\n', 'ids': 7, 'ref': 0, 'score': 7}\n",
      "[2020/06/17/14:00] Speaker 1 expresses admiration and inquires about Speaker 2's current job, to which Speaker 2 responds that they are an electrical engineer, trained in the military, and found a passion and talent for the work.\n",
      "{'dialog': \"time: 2020/06/17/14:00\\nSpeaker1: Oh wow that's very admirable. What do you do now?\\nSpeaker2: I work as an electrical engineer for a private company, I was trained in the millitary as such and I found out that I not only liked it, but I was good at it as well.\\n\", 'ids': 8, 'ref': 0, 'score': 8}\n",
      "[2020/06/17/14:00] Speaker 1 expresses admiration for Speaker 2's work and shares their background as a mechanical engineer, while Speaker 2 explains their role in troubleshooting, installing, and testing equipment for safety and functionality.\n",
      "{'dialog': 'time: 2020/06/17/14:00\\nSpeaker1: Thats really impressive. I am a mechanical engineer so I can relate. What kind of stuff do you work on\\nSpeaker2: I troubleshoot equipment that the company either sells to its customers, or that it rents to its customers. I also install and test their equipment, to ensure that it not only works, but it also is safe to use in a household.\\n', 'ids': 9, 'ref': 0, 'score': 9}\n",
      "[2020/06/17/14:00] Speaker 1 expresses interest in the types of items Speaker 2 works on, and Speaker 2 elaborates on their experience with generators, motors, and household wiring variations.\n",
      "{'dialog': 'time: 2020/06/17/14:00\\nSpeaker1: Right on, thats pretty cool. Like generators and motors or household items?\\nSpeaker2: Generators for sure are some of the things I have worked on, but also wiring and how a system is connected as well. Its suprising how different some households can be wired than others in a given neighborhood.\\n', 'ids': 10, 'ref': 0, 'score': 10}\n",
      "[2020/06/17/14:00] Speaker 1 shares an experience about a cousin's costly home renovation due to aluminum wiring, and Speaker 2 acknowledges the importance of addressing home issues to prevent future problems.\n",
      "{'dialog': 'time: 2020/06/17/14:00\\nSpeaker1: Oh yes I can imagine. My cousin bought a house with all aluminum wiring. He spent a lot in bring it up to code.\\nSpeaker2: That must a been some kind of endeavor. Its great that people are aware of issues that arise in their homes, otherwise it can be very problematic in the future.\\n', 'ids': 11, 'ref': 0, 'score': 11}\n",
      "[2020/06/17/14:00] Speaker 1 expresses the challenge of maintaining home safety, while Speaker 2 emphasizes the importance of a secure home, especially for families with children.\n",
      "{'dialog': 'time: 2020/06/17/14:00\\nSpeaker1: Oh it was. I cant imagine taking something like that on. But its definitely worth it to keep his home safe. \\nSpeaker2: Especially if you plan on keeping it for a while, or if you have a family to take care of. I would want my house to be as safe as possible for my children.\\n', 'ids': 12, 'ref': 0, 'score': 12}\n",
      "[2020/06/20/14:00] Speaker 1 shares that they have booked a week-long vacation from work next month, and Speaker 2 expresses interest by asking where they are going.\n",
      "{'dialog': \"time: 2020/06/20/14:00\\nSpeaker1: I've booked myself a week long vacation from work next month!\\nSpeaker2: How nice!  Where are you going?\\n\", 'ids': 13, 'ref': 0, 'score': 13}\n",
      "[2020/06/20/14:00] Speaker 1 seeks travel advice from Speaker 2, who shares their preference for relaxing beach destinations and mentions their upcoming trip to New Orleans, before inquiring about Speaker 1's cousin's house wiring.\n",
      "{'dialog': \"time: 2020/06/20/14:00\\nSpeaker1: Did not decided yet, I'd like to get an idea about traveling as you are big traveller. \\nSpeaker2: I like relaxing places, like the beaches.  I love New Orleans, the entertainment is great there.  That is where I'm going on my next vacation.  What is your cousin going to do about the wiring in his house?\\n\", 'ids': 14, 'ref': 0, 'score': 14}\n",
      "[2020/06/20/14:00] Speaker 1 expresses concern for their cousin's housing issues and asks if they can share Speaker 2's contact for assistance, to which Speaker 2 agrees to help and inquires about the cousin's location.\n",
      "{'dialog': 'time: 2020/06/20/14:00\\nSpeaker1: Thank you for the suggestions. I am going to take a look for all place which is available for now. Glad to ask about my cousin, seems like he is having bad times, because of the conditions, those house problem etc. Hope he can figure it out soon. If he has questions about those wiring things, can I give your contact to him?\\nSpeaker2: Yes I would be glad to help in any way I can.  Does he live close to you?\\n', 'ids': 15, 'ref': 0, 'score': 15}\n",
      "[2020/06/20/14:00] Speaker 1 expresses gratitude and mentions the distance preventing them from helping, while Speaker 2 offers to assist and suggests that the person may need to send photos of their issues to assess the seriousness.\n",
      "{'dialog': \"time: 2020/06/20/14:00\\nSpeaker1: You're so sweet thank you again. Unfortunately, we are not living close enough. If we are living close, I am for sure there things I can help to him\\nSpeaker2: Well I'm sure I can help him get headed in the right direction with what to do.  He might have to send me photos of some of the problems.  Do you think it is really serious?\\n\", 'ids': 16, 'ref': 0, 'score': 16}\n",
      "[2020/06/20/14:00] Speaker 1 expresses concern about serious problems but feels reassured by Speaker 2's experience, while Speaker 2 offers to help with electrical issues if time allows during out-of-town work.\n",
      "{'dialog': \"time: 2020/06/20/14:00\\nSpeaker1: I guess that problems are serious, but I am not a professional one so I do not know about much. I am so glad to have you. You are experienced, professional, so there are nothing to worry about right?\\nSpeaker2: Yes, I've fixed lots of electrical problems.  I have some out of town work I'll be doing, maybe I can stop by his house if isn't too far.\\n\", 'ids': 17, 'ref': 0, 'score': 17}\n",
      "[2020/06/20/14:00] Speaker 1 expresses gratitude and mentions needing to contact their cousin before proceeding, while Speaker 2 wishes them a fun vacation and asks to be informed of their destination.\n",
      "{'dialog': \"time: 2020/06/20/14:00\\nSpeaker1: Thank you as always. First I need you contact my cousin then I'll let you know. I do not want to bother you. I know you have tons of things to do\\nSpeaker2: Ok that is fine.  Have fun on your vacation and be sure to let me know where you decide to go.\\n\", 'ids': 18, 'ref': 0, 'score': 18}\n",
      "[2020/6/20/20:00] Speaker 2 inquires about Speaker 1's next trip to New Orleans and expresses a desire to visit again in March.\n",
      "{'dialog': 'time: 2020/6/20/20:00\\nSpeaker2: When do you think you will travel to New Orleans next?\\nSpeaker2: I hope to travel there again sometime next March.\\n', 'ids': 19, 'ref': 0, 'score': 19}\n",
      "[2020/6/20] Speaker 2 shares their plans to take a break and travel to Italy, while also mentioning their previous positive experience there during military service, and inquires if Speaker 1 plans to take a break from work to travel.\n",
      "{'dialog': 'time: 2020/6/20/20:00\\nSpeaker2: I have never been there but I hear it is a lot of fun! I have been working too much and decided to take a break- finally! I will be going to Italy. Have you ever been there?\\nSpeaker2: Yes, I was able to travel there while I was in the Military and loved it! Do you plan on taking a break from your non-stop work life to travel?\\n', 'ids': 20, 'ref': 0, 'score': 20}\n",
      "[2020/6/20] Speaker 2 shares their plans to take two weeks off work for the first time and reflects on their 16 years in the military, which helped them transition to a fulfilling civilian job, with future plans to relax in Bora Bora.\n",
      "{'dialog': \"time: 2020/6/20/20:00\\nSpeaker2: Yes I do. I will take 2 weeks off from work. I haven't done that before. I usually work every week day without time off. How long did you spend in the military?\\nSpeaker2: I was in the Military for 16 years and was able to take my skills into a job that I love in the civilian world. Just a few more years and I will be able to spend a few months on the beach in Bora Bora.\\n\", 'ids': 21, 'ref': 0, 'score': 21}\n",
      "[2020/6/20 20:00] Speaker 2 inquires if Speaker 1 still works as an electrician and offers to help with a wiring problem.\n",
      "{'dialog': 'time: 2020/6/20/20:00\\nSpeaker2: That sounds wonderful. Do you still work as an electrician?\\nSpeaker2: I do, I should come help you fix your cousins wiring problem!\\n', 'ids': 22, 'ref': 0, 'score': 22}\n",
      "[2020/6/20/20:00] Speaker 2 expresses excitement about a planned trip and offers to cover the costs, then asks where Speaker 1's cousin lives.\n",
      "{'dialog': 'time: 2020/6/20/20:00\\nSpeaker2: Yes that would be wonderful, thank you! it would be a little trip for both of us. I will send you the information and we will pay for your weekend away. It will be great to see you.\\nSpeaker2: Where does your cousin live again?\\n', 'ids': 23, 'ref': 0, 'score': 23}\n",
      "[2020/6/20] Speaker 2 discusses a friend's property in Florida that needs work but was purchased at a good price, and inquires about the safety of the new home.\n",
      "{'dialog': 'time: 2020/6/20/20:00\\nSpeaker2: She is in Florida, near the beach. She has a beautiful property but it needs a lot of work, of course. She got a great deal on it though.\\nSpeaker2: Is her new home at least safe?\\n', 'ids': 24, 'ref': 0, 'score': 24}\n"
     ]
    }
   ],
   "source": [
    "for chunk in chunks:\n",
    "    print(chunk.page_content)\n",
    "    print(chunk.metadata)"
   ]
  },
  {
   "cell_type": "code",
   "execution_count": 6,
   "metadata": {},
   "outputs": [
    {
     "name": "stdout",
     "output_type": "stream",
     "text": [
      "new_query:  [2020/6/21/20:00][Speaker1: What did you do yesterday?]\n",
      "is_memory_required:  “[2020/6/20][]”\n",
      "[2020/6/20 20:00] Speaker 2 discusses a friend's property in Florida that needs work but was purchased at a good price, and inquires about the safety of the new home.\n",
      "[2020/06/17/14:00] Speaker 1 shares an experience about a cousin's house with aluminum wiring that required costly updates, and Speaker 2 acknowledges the importance of addressing home issues to prevent future problems.\n",
      "[2020/06/15/14:00] Speaker 1 acknowledges Speaker 2's travel experience, and Speaker 2 humorously mentions their experience with explosives while recommending Bora Bora as a nice destination.\n",
      "[2020/06/15/14:00] Speaker 1 expresses the need for a break due to working long hours, while Speaker 2 suggests that spending time with cute cuddly kittens is the best way to relax.\n",
      "[2020/06/17/14:00] Speaker 1 inquires about Speaker 2's military status, and Speaker 2 confirms they have completed their service and now work outside the military.\n"
     ]
    }
   ],
   "source": [
    "query = {\n",
    "    \"time\": \"2020/6/21/20:00\",\n",
    "    \"text\": f\"Speaker1: What did you do yesterday?\"\n",
    "}\n",
    "\n",
    "is_needed_memory = int(check_memory(query[\"text\"]))\n",
    "new_query = f\"[{query['time']}][{query['text']}]\"\n",
    "print(\"new_query: \",new_query)\n",
    "print(\"is_memory_required: \", is_needed_memory)\n",
    "\n",
    "# 만약 필요하다면 그냥 LLM 없이 time_stamp만 추가해서 쿼리 \n",
    "# LLM의 king + man = queen 같은 성능을 바랬음\n",
    "if is_needed_memory == 1:\n",
    "    results = cache.similarity_search(new_query,5)\n",
    "    for d in results:\n",
    "        print(d.page_content)\n",
    "else:\n",
    "    print(\"n\")"
   ]
  },
  {
   "cell_type": "code",
   "execution_count": 24,
   "metadata": {},
   "outputs": [
    {
     "name": "stdout",
     "output_type": "stream",
     "text": [
      "query:  [2020/6/21/20:00][Speaker1: What did you do yesterday?]\n",
      "rewrited_query:  “[2020/6/20][]”\n",
      "1: \n",
      " [2020/06/17/14:00] Speaker 1 inquires about Speaker 2's military status, and Speaker 2 confirms they have completed their service and now work outside the military.\n",
      "2: \n",
      " [2020/6/20 20:00] Speaker 2 inquires if Speaker 1 still works as an electrician and offers to help with a wiring problem.\n",
      "3: \n",
      " [2020/06/20/14:00] Speaker 1 shares that they have booked a week-long vacation from work next month, and Speaker 2 expresses interest by asking where they are going.\n",
      "4: \n",
      " [2020/6/20] Speaker 2 discusses a friend's property in Florida that needs work but was purchased at a good price, and inquires about the safety of the new home.\n",
      "5: \n",
      " [2020/6/20/20:00] Speaker 2 expresses excitement about a planned trip and offers to cover the costs, then asks where Speaker 1's cousin lives.\n",
      "\n"
     ]
    }
   ],
   "source": [
    "\n",
    "query = {\n",
    "    \"time\": \"2020/6/21/20:00\",\n",
    "    \"text\": f\"Speaker1: What did you do yesterday?\"\n",
    "}\n",
    "query = f\"[{query['time']}][{query['text']}]\"\n",
    "rewrited_query = query_rewriter(query)\n",
    "print(\"query: \", query)\n",
    "print(\"rewrited_query: \", rewrited_query)\n",
    "\n",
    "if rewrited_query != \"None\":\n",
    "    results = cache.similarity_search(rewrited_query,5)\n",
    "    \n",
    "    context = \"\"\n",
    "    for idx, d in enumerate(results):\n",
    "        context += f\"{idx+1}: \\n {d.page_content}\\n\"\n",
    "\n",
    "print(context)"
   ]
  },
  {
   "cell_type": "code",
   "execution_count": 16,
   "metadata": {},
   "outputs": [
    {
     "name": "stdout",
     "output_type": "stream",
     "text": [
      "Output: 2 3 4 5\n",
      "[1, 2, 3, 4]\n",
      "validated된 결과: \n",
      "[2020/6/20 20:00] Speaker 2 inquires if Speaker 1 still works as an electrician and offers to help with a wiring problem.\n",
      "[2020/06/20/14:00] Speaker 1 shares that they have booked a week-long vacation from work next month, and Speaker 2 expresses interest by asking where they are going.\n",
      "[2020/6/20] Speaker 2 discusses a friend's property in Florida that needs work but was purchased at a good price, and inquires about the safety of the new home.\n",
      "[2020/6/20/20:00] Speaker 2 expresses excitement about a planned trip and offers to cover the costs, then asks where Speaker 1's cousin lives.\n"
     ]
    }
   ],
   "source": [
    "validated_context = validater(context, rewrited_query).replace(\",\",\"\")\n",
    "idx_list = [int(x)-1 for x in validated_context.split() if x.isdigit()]\n",
    "print(validated_context)\n",
    "print(idx_list)\n",
    "\n",
    "print(\"validated된 결과: \")\n",
    "for idx in idx_list:\n",
    "    print(results[idx].page_content)"
   ]
  },
  {
   "cell_type": "code",
   "execution_count": 17,
   "metadata": {},
   "outputs": [],
   "source": [
    "from openai import OpenAI\n",
    "client = OpenAI(api_key=\"\")\n",
    "\n",
    "def get_embedding(text, model=\"text-embedding-3-large\"):\n",
    "   text = text.replace(\"\\n\", \" \")\n",
    "   return client.embeddings.create(input = [text], model=model).data[0].embedding\n",
    "\n",
    "test_case = [\n",
    "    \"[2020/06/15/14:00][Speaker1 expresses their love for brownies but mentions they haven't perfected their recipe yet. Speaker2 offers to help by volunteering to taste test the brownies.]\",\n",
    "    \"[2020/06/15/14:00][Speaker1 expresses a preference for the beach over kittens. Speaker2 humorously suggests a beach covered in kittens. Speaker1 agrees that it would be an interesting sight. Speaker2 then mentions a love for chocolate, suggesting brownies as an alternative.]\",\n",
    "    \"[2020/06/17/14:00][Speaker1 asks if Speaker2 is still in the military. Speaker2 responds that they are no longer serving, having completed their full term, and now work outside the military. Speaker1 expresses admiration and asks what Speaker2 does now. Speaker2 explains that they work as an electrical engineer for a private company, having been trained in the military for that role and discovering they enjoy and excel at it.]\",\n",
    "    \"[2020/6/20][Speaker2 mentions taking two weeks off from work for the first time and asks Speaker1 how long they spent in the military. Speaker2 shares that they served in the military for 16 years and transitioned to a civilian job they love, expressing excitement about spending time on the beach in Bora Bora in a few years. Speaker2 then asks if Speaker1 still works as an electrician and offers to help fix a wiring problem for their cousin.]\",\n",
    "    \"[2020/06/15/14:00][Speaker1 asks for vacation destination advice and inquires about recent travels. Speaker2 mentions their extensive travel experience due to being in the military and humorously adds that they have experience with explosives. Speaker2 recommends Bora Bora as a nice destination.]\"\n",
    "]\n"
   ]
  },
  {
   "cell_type": "code",
   "execution_count": 18,
   "metadata": {},
   "outputs": [
    {
     "name": "stdout",
     "output_type": "stream",
     "text": [
      "0.3065276073561899\n",
      "0.2776960161830363\n",
      "0.28218895787163384\n",
      "0.26596997026217695\n",
      "0.2572888855704737\n"
     ]
    }
   ],
   "source": [
    "import numpy as np \n",
    "from sklearn.metrics.pairwise import cosine_similarity\n",
    "\n",
    "def compute_similarity(embedding1, embedding2):\n",
    "    \"\"\"\n",
    "    두 벡터 간의 코사인 유사도를 계산하는 함수\n",
    "    \"\"\"\n",
    "    embedding1 = np.array(embedding1).reshape(1, -1)\n",
    "    embedding2 = np.array(embedding2).reshape(1, -1)\n",
    "    return cosine_similarity(embedding1, embedding2)[0][0]\n",
    "\n",
    "query_embedding = get_embedding(\"[2020/6/17][]\")\n",
    "\n",
    "\n",
    "for sample in test_case:\n",
    "    sample_embedding = get_embedding(sample)\n",
    "    print(compute_similarity(query_embedding, sample_embedding))\n"
   ]
  },
  {
   "cell_type": "code",
   "execution_count": 21,
   "metadata": {},
   "outputs": [
    {
     "name": "stdout",
     "output_type": "stream",
     "text": [
      "0.4108592778359869\n",
      "0.3990480307571378\n",
      "0.49456171259648884\n",
      "0.4846625346958474\n",
      "0.44613744145185386\n"
     ]
    }
   ],
   "source": [
    "import numpy as np \n",
    "from sklearn.metrics.pairwise import cosine_similarity\n",
    "\n",
    "def compute_similarity(embedding1, embedding2):\n",
    "    \"\"\"\n",
    "    두 벡터 간의 코사인 유사도를 계산하는 함수\n",
    "    \"\"\"\n",
    "    embedding1 = np.array(embedding1).reshape(1, -1)\n",
    "    embedding2 = np.array(embedding2).reshape(1, -1)\n",
    "    return cosine_similarity(embedding1, embedding2)[0][0]\n",
    "\n",
    "query_embedding = get_embedding(\"[2020/6/18][Speaker1: What did you do yesterday?]\")\n",
    "\n",
    "\n",
    "for sample in test_case:\n",
    "    sample_embedding = get_embedding(sample)\n",
    "    print(compute_similarity(query_embedding, sample_embedding))\n",
    "\n"
   ]
  },
  {
   "cell_type": "code",
   "execution_count": 22,
   "metadata": {},
   "outputs": [
    {
     "name": "stdout",
     "output_type": "stream",
     "text": [
      "0.39743531926106823\n",
      "0.3846414687548988\n",
      "0.466194241331776\n",
      "0.5138105545704537\n",
      "0.45551629917546654\n"
     ]
    }
   ],
   "source": [
    "import numpy as np \n",
    "from sklearn.metrics.pairwise import cosine_similarity\n",
    "\n",
    "def compute_similarity(embedding1, embedding2):\n",
    "    \"\"\"\n",
    "    두 벡터 간의 코사인 유사도를 계산하는 함수\n",
    "    \"\"\"\n",
    "    embedding1 = np.array(embedding1).reshape(1, -1)\n",
    "    embedding2 = np.array(embedding2).reshape(1, -1)\n",
    "    return cosine_similarity(embedding1, embedding2)[0][0]\n",
    "\n",
    "query_embedding = get_embedding(\"[2020/6/21][Speaker1: What did you do four days ago?]\")\n",
    "\n",
    "\n",
    "for sample in test_case:\n",
    "    sample_embedding = get_embedding(sample)\n",
    "    print(compute_similarity(query_embedding, sample_embedding))"
   ]
  }
 ],
 "metadata": {
  "kernelspec": {
   "display_name": "dacon",
   "language": "python",
   "name": "python3"
  },
  "language_info": {
   "codemirror_mode": {
    "name": "ipython",
    "version": 3
   },
   "file_extension": ".py",
   "mimetype": "text/x-python",
   "name": "python",
   "nbconvert_exporter": "python",
   "pygments_lexer": "ipython3",
   "version": "3.12.5"
  }
 },
 "nbformat": 4,
 "nbformat_minor": 2
}
